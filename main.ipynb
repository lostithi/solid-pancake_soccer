{
 "cells": [
  {
   "cell_type": "code",
   "execution_count": 45,
   "metadata": {},
   "outputs": [
    {
     "data": {
      "text/html": [
       "<div>\n",
       "<style scoped>\n",
       "    .dataframe tbody tr th:only-of-type {\n",
       "        vertical-align: middle;\n",
       "    }\n",
       "\n",
       "    .dataframe tbody tr th {\n",
       "        vertical-align: top;\n",
       "    }\n",
       "\n",
       "    .dataframe thead th {\n",
       "        text-align: right;\n",
       "    }\n",
       "</style>\n",
       "<table border=\"1\" class=\"dataframe\">\n",
       "  <thead>\n",
       "    <tr style=\"text-align: right;\">\n",
       "      <th></th>\n",
       "      <th>No</th>\n",
       "      <th>Player</th>\n",
       "      <th>Team</th>\n",
       "      <th>Apps</th>\n",
       "      <th>Min</th>\n",
       "      <th>G</th>\n",
       "      <th>A</th>\n",
       "      <th>xG</th>\n",
       "      <th>xA</th>\n",
       "      <th>xG90</th>\n",
       "      <th>xA90</th>\n",
       "    </tr>\n",
       "  </thead>\n",
       "  <tbody>\n",
       "    <tr>\n",
       "      <th>0</th>\n",
       "      <td>1</td>\n",
       "      <td>Son Heung-Min</td>\n",
       "      <td>Tottenham</td>\n",
       "      <td>35</td>\n",
       "      <td>3051</td>\n",
       "      <td>23</td>\n",
       "      <td>7</td>\n",
       "      <td>16.99-6.01</td>\n",
       "      <td>7.85+0.85</td>\n",
       "      <td>0.50</td>\n",
       "      <td>0.23</td>\n",
       "    </tr>\n",
       "    <tr>\n",
       "      <th>1</th>\n",
       "      <td>2</td>\n",
       "      <td>Mohamed Salah</td>\n",
       "      <td>Liverpool</td>\n",
       "      <td>35</td>\n",
       "      <td>2757</td>\n",
       "      <td>23</td>\n",
       "      <td>13</td>\n",
       "      <td>24.36+1.36</td>\n",
       "      <td>9.79-3.21</td>\n",
       "      <td>0.80</td>\n",
       "      <td>0.32</td>\n",
       "    </tr>\n",
       "    <tr>\n",
       "      <th>2</th>\n",
       "      <td>3</td>\n",
       "      <td>Cristiano Ronaldo</td>\n",
       "      <td>Manchester United</td>\n",
       "      <td>30</td>\n",
       "      <td>2468</td>\n",
       "      <td>18</td>\n",
       "      <td>3</td>\n",
       "      <td>17.21-0.79</td>\n",
       "      <td>4.42+1.42</td>\n",
       "      <td>0.63</td>\n",
       "      <td>0.16</td>\n",
       "    </tr>\n",
       "    <tr>\n",
       "      <th>3</th>\n",
       "      <td>4</td>\n",
       "      <td>Harry Kane</td>\n",
       "      <td>Tottenham</td>\n",
       "      <td>37</td>\n",
       "      <td>3229</td>\n",
       "      <td>17</td>\n",
       "      <td>9</td>\n",
       "      <td>20.69+3.69</td>\n",
       "      <td>9.82+0.82</td>\n",
       "      <td>0.58</td>\n",
       "      <td>0.27</td>\n",
       "    </tr>\n",
       "    <tr>\n",
       "      <th>4</th>\n",
       "      <td>5</td>\n",
       "      <td>Sadio Mané</td>\n",
       "      <td>Liverpool</td>\n",
       "      <td>34</td>\n",
       "      <td>2833</td>\n",
       "      <td>16</td>\n",
       "      <td>2</td>\n",
       "      <td>16.83+0.83</td>\n",
       "      <td>5.27+3.27</td>\n",
       "      <td>0.53</td>\n",
       "      <td>0.17</td>\n",
       "    </tr>\n",
       "  </tbody>\n",
       "</table>\n",
       "</div>"
      ],
      "text/plain": [
       "   No             Player               Team  Apps   Min   G   A          xG  \\\n",
       "0   1      Son Heung-Min          Tottenham    35  3051  23   7  16.99-6.01   \n",
       "1   2      Mohamed Salah          Liverpool    35  2757  23  13  24.36+1.36   \n",
       "2   3  Cristiano Ronaldo  Manchester United    30  2468  18   3  17.21-0.79   \n",
       "3   4         Harry Kane          Tottenham    37  3229  17   9  20.69+3.69   \n",
       "4   5         Sadio Mané          Liverpool    34  2833  16   2  16.83+0.83   \n",
       "\n",
       "          xA  xG90  xA90  \n",
       "0  7.85+0.85  0.50  0.23  \n",
       "1  9.79-3.21  0.80  0.32  \n",
       "2  4.42+1.42  0.63  0.16  \n",
       "3  9.82+0.82  0.58  0.27  \n",
       "4  5.27+3.27  0.53  0.17  "
      ]
     },
     "execution_count": 45,
     "metadata": {},
     "output_type": "execute_result"
    }
   ],
   "source": [
    "import pandas as pd \n",
    "df = pd.read_csv(r\"C:\\Users\\mhdih\\OneDrive\\Desktop\\git\\solid-pancake_soccer\\dataset\\2021\\Premier_League_Players.csv\", low_memory=False)\n",
    "df.head()"
   ]
  },
  {
   "cell_type": "code",
   "execution_count": 46,
   "metadata": {},
   "outputs": [
    {
     "data": {
      "text/plain": [
       "(537, 11)"
      ]
     },
     "execution_count": 46,
     "metadata": {},
     "output_type": "execute_result"
    }
   ],
   "source": [
    "df.shape"
   ]
  },
  {
   "cell_type": "code",
   "execution_count": 47,
   "metadata": {},
   "outputs": [
    {
     "data": {
      "text/plain": [
       "<bound method NDFrame.describe of       No              Player                     Team  Apps   Min   G   A  \\\n",
       "0      1       Son Heung-Min                Tottenham    35  3051  23   7   \n",
       "1      2       Mohamed Salah                Liverpool    35  2757  23  13   \n",
       "2      3   Cristiano Ronaldo        Manchester United    30  2468  18   3   \n",
       "3      4          Harry Kane                Tottenham    37  3229  17   9   \n",
       "4      5          Sadio Mané                Liverpool    34  2833  16   2   \n",
       "..   ...                 ...                      ...   ...   ...  ..  ..   \n",
       "532  533           Chiquinho  Wolverhampton Wanderers     8   191   0   3   \n",
       "533  534        Josh Dasilva                Brentford     9   242   0   0   \n",
       "534  535     Daniel Chesters                 West Ham     1     1   0   0   \n",
       "535  536      Tony Springett                  Norwich     3   138   0   0   \n",
       "536  537  Alejandro Garnacho        Manchester United     2    11   0   0   \n",
       "\n",
       "             xG         xA  xG90  xA90  \n",
       "0    16.99-6.01  7.85+0.85  0.50  0.23  \n",
       "1    24.36+1.36  9.79-3.21  0.80  0.32  \n",
       "2    17.21-0.79  4.42+1.42  0.63  0.16  \n",
       "3    20.69+3.69  9.82+0.82  0.58  0.27  \n",
       "4    16.83+0.83  5.27+3.27  0.53  0.17  \n",
       "..          ...        ...   ...   ...  \n",
       "532   0.56+0.56  1.09-1.91  0.26  0.51  \n",
       "533   0.10+0.10  0.18+0.18  0.04  0.07  \n",
       "534           0          0  0.00  0.00  \n",
       "535   0.52+0.52  0.51+0.51  0.34  0.34  \n",
       "536           0          0  0.00  0.00  \n",
       "\n",
       "[537 rows x 11 columns]>"
      ]
     },
     "execution_count": 47,
     "metadata": {},
     "output_type": "execute_result"
    }
   ],
   "source": [
    "df.describe"
   ]
  },
  {
   "cell_type": "code",
   "execution_count": 48,
   "metadata": {},
   "outputs": [
    {
     "data": {
      "text/plain": [
       "No        0\n",
       "Player    0\n",
       "Team      0\n",
       "Apps      0\n",
       "Min       0\n",
       "G         0\n",
       "A         0\n",
       "xG        0\n",
       "xA        0\n",
       "xG90      0\n",
       "xA90      0\n",
       "dtype: int64"
      ]
     },
     "execution_count": 48,
     "metadata": {},
     "output_type": "execute_result"
    }
   ],
   "source": [
    "df.isnull().sum()"
   ]
  },
  {
   "cell_type": "code",
   "execution_count": 49,
   "metadata": {},
   "outputs": [
    {
     "name": "stdout",
     "output_type": "stream",
     "text": [
      "<class 'pandas.core.frame.DataFrame'>\n",
      "RangeIndex: 537 entries, 0 to 536\n",
      "Data columns (total 11 columns):\n",
      " #   Column  Non-Null Count  Dtype  \n",
      "---  ------  --------------  -----  \n",
      " 0   No      537 non-null    int64  \n",
      " 1   Player  537 non-null    object \n",
      " 2   Team    537 non-null    object \n",
      " 3   Apps    537 non-null    int64  \n",
      " 4   Min     537 non-null    int64  \n",
      " 5   G       537 non-null    int64  \n",
      " 6   A       537 non-null    int64  \n",
      " 7   xG      537 non-null    object \n",
      " 8   xA      537 non-null    object \n",
      " 9   xG90    537 non-null    float64\n",
      " 10  xA90    537 non-null    float64\n",
      "dtypes: float64(2), int64(5), object(4)\n",
      "memory usage: 46.3+ KB\n"
     ]
    }
   ],
   "source": [
    "df.info()"
   ]
  },
  {
   "cell_type": "code",
   "execution_count": 50,
   "metadata": {},
   "outputs": [],
   "source": [
    "df = df.drop(columns=[\"No\"])"
   ]
  },
  {
   "cell_type": "code",
   "execution_count": 51,
   "metadata": {},
   "outputs": [
    {
     "name": "stdout",
     "output_type": "stream",
     "text": [
      "<class 'pandas.core.frame.DataFrame'>\n",
      "RangeIndex: 537 entries, 0 to 536\n",
      "Data columns (total 10 columns):\n",
      " #   Column  Non-Null Count  Dtype  \n",
      "---  ------  --------------  -----  \n",
      " 0   Player  537 non-null    object \n",
      " 1   Team    537 non-null    object \n",
      " 2   Apps    537 non-null    int64  \n",
      " 3   Min     537 non-null    int64  \n",
      " 4   G       537 non-null    int64  \n",
      " 5   A       537 non-null    int64  \n",
      " 6   xG      95 non-null     float64\n",
      " 7   xA      102 non-null    float64\n",
      " 8   xG90    537 non-null    float64\n",
      " 9   xA90    537 non-null    float64\n",
      "dtypes: float64(4), int64(4), object(2)\n",
      "memory usage: 42.1+ KB\n"
     ]
    }
   ],
   "source": [
    "df['xG'] = pd.to_numeric(df['xG'], errors='coerce')\n",
    "df['xA'] = pd.to_numeric(df['xA'], errors='coerce')\n",
    "df.info()"
   ]
  },
  {
   "cell_type": "code",
   "execution_count": 52,
   "metadata": {},
   "outputs": [
    {
     "data": {
      "text/html": [
       "<div>\n",
       "<style scoped>\n",
       "    .dataframe tbody tr th:only-of-type {\n",
       "        vertical-align: middle;\n",
       "    }\n",
       "\n",
       "    .dataframe tbody tr th {\n",
       "        vertical-align: top;\n",
       "    }\n",
       "\n",
       "    .dataframe thead th {\n",
       "        text-align: right;\n",
       "    }\n",
       "</style>\n",
       "<table border=\"1\" class=\"dataframe\">\n",
       "  <thead>\n",
       "    <tr style=\"text-align: right;\">\n",
       "      <th></th>\n",
       "      <th>Apps</th>\n",
       "      <th>Min</th>\n",
       "      <th>G</th>\n",
       "      <th>A</th>\n",
       "      <th>xG</th>\n",
       "      <th>xA</th>\n",
       "      <th>xG90</th>\n",
       "      <th>xA90</th>\n",
       "    </tr>\n",
       "  </thead>\n",
       "  <tbody>\n",
       "    <tr>\n",
       "      <th>count</th>\n",
       "      <td>537.000000</td>\n",
       "      <td>537.000000</td>\n",
       "      <td>537.000000</td>\n",
       "      <td>537.000000</td>\n",
       "      <td>95.000000</td>\n",
       "      <td>102.000000</td>\n",
       "      <td>537.000000</td>\n",
       "      <td>537.000000</td>\n",
       "    </tr>\n",
       "    <tr>\n",
       "      <th>mean</th>\n",
       "      <td>19.525140</td>\n",
       "      <td>1399.392924</td>\n",
       "      <td>1.931099</td>\n",
       "      <td>1.383613</td>\n",
       "      <td>0.063158</td>\n",
       "      <td>0.009804</td>\n",
       "      <td>0.151080</td>\n",
       "      <td>0.106164</td>\n",
       "    </tr>\n",
       "    <tr>\n",
       "      <th>std</th>\n",
       "      <td>11.643965</td>\n",
       "      <td>1025.156979</td>\n",
       "      <td>3.278847</td>\n",
       "      <td>2.049288</td>\n",
       "      <td>0.351608</td>\n",
       "      <td>0.099015</td>\n",
       "      <td>0.348329</td>\n",
       "      <td>0.401948</td>\n",
       "    </tr>\n",
       "    <tr>\n",
       "      <th>min</th>\n",
       "      <td>1.000000</td>\n",
       "      <td>1.000000</td>\n",
       "      <td>0.000000</td>\n",
       "      <td>0.000000</td>\n",
       "      <td>0.000000</td>\n",
       "      <td>0.000000</td>\n",
       "      <td>0.000000</td>\n",
       "      <td>0.000000</td>\n",
       "    </tr>\n",
       "    <tr>\n",
       "      <th>25%</th>\n",
       "      <td>9.000000</td>\n",
       "      <td>410.000000</td>\n",
       "      <td>0.000000</td>\n",
       "      <td>0.000000</td>\n",
       "      <td>0.000000</td>\n",
       "      <td>0.000000</td>\n",
       "      <td>0.010000</td>\n",
       "      <td>0.010000</td>\n",
       "    </tr>\n",
       "    <tr>\n",
       "      <th>50%</th>\n",
       "      <td>21.000000</td>\n",
       "      <td>1356.000000</td>\n",
       "      <td>1.000000</td>\n",
       "      <td>1.000000</td>\n",
       "      <td>0.000000</td>\n",
       "      <td>0.000000</td>\n",
       "      <td>0.060000</td>\n",
       "      <td>0.060000</td>\n",
       "    </tr>\n",
       "    <tr>\n",
       "      <th>75%</th>\n",
       "      <td>30.000000</td>\n",
       "      <td>2211.000000</td>\n",
       "      <td>2.000000</td>\n",
       "      <td>2.000000</td>\n",
       "      <td>0.000000</td>\n",
       "      <td>0.000000</td>\n",
       "      <td>0.190000</td>\n",
       "      <td>0.140000</td>\n",
       "    </tr>\n",
       "    <tr>\n",
       "      <th>max</th>\n",
       "      <td>38.000000</td>\n",
       "      <td>3420.000000</td>\n",
       "      <td>23.000000</td>\n",
       "      <td>13.000000</td>\n",
       "      <td>2.000000</td>\n",
       "      <td>1.000000</td>\n",
       "      <td>6.310000</td>\n",
       "      <td>8.940000</td>\n",
       "    </tr>\n",
       "  </tbody>\n",
       "</table>\n",
       "</div>"
      ],
      "text/plain": [
       "             Apps          Min           G           A         xG          xA  \\\n",
       "count  537.000000   537.000000  537.000000  537.000000  95.000000  102.000000   \n",
       "mean    19.525140  1399.392924    1.931099    1.383613   0.063158    0.009804   \n",
       "std     11.643965  1025.156979    3.278847    2.049288   0.351608    0.099015   \n",
       "min      1.000000     1.000000    0.000000    0.000000   0.000000    0.000000   \n",
       "25%      9.000000   410.000000    0.000000    0.000000   0.000000    0.000000   \n",
       "50%     21.000000  1356.000000    1.000000    1.000000   0.000000    0.000000   \n",
       "75%     30.000000  2211.000000    2.000000    2.000000   0.000000    0.000000   \n",
       "max     38.000000  3420.000000   23.000000   13.000000   2.000000    1.000000   \n",
       "\n",
       "             xG90        xA90  \n",
       "count  537.000000  537.000000  \n",
       "mean     0.151080    0.106164  \n",
       "std      0.348329    0.401948  \n",
       "min      0.000000    0.000000  \n",
       "25%      0.010000    0.010000  \n",
       "50%      0.060000    0.060000  \n",
       "75%      0.190000    0.140000  \n",
       "max      6.310000    8.940000  "
      ]
     },
     "execution_count": 52,
     "metadata": {},
     "output_type": "execute_result"
    }
   ],
   "source": [
    "df.describe()"
   ]
  },
  {
   "cell_type": "code",
   "execution_count": 53,
   "metadata": {},
   "outputs": [
    {
     "data": {
      "text/plain": [
       "0           Son Heung-Min\n",
       "1           Mohamed Salah\n",
       "2       Cristiano Ronaldo\n",
       "3              Harry Kane\n",
       "4              Sadio Mané\n",
       "              ...        \n",
       "532             Chiquinho\n",
       "533          Josh Dasilva\n",
       "534       Daniel Chesters\n",
       "535        Tony Springett\n",
       "536    Alejandro Garnacho\n",
       "Name: Player, Length: 537, dtype: object"
      ]
     },
     "execution_count": 53,
     "metadata": {},
     "output_type": "execute_result"
    }
   ],
   "source": [
    "df['Player']"
   ]
  }
 ],
 "metadata": {
  "kernelspec": {
   "display_name": "Python 3",
   "language": "python",
   "name": "python3"
  },
  "language_info": {
   "codemirror_mode": {
    "name": "ipython",
    "version": 3
   },
   "file_extension": ".py",
   "mimetype": "text/x-python",
   "name": "python",
   "nbconvert_exporter": "python",
   "pygments_lexer": "ipython3",
   "version": "3.13.2"
  },
  "orig_nbformat": 4
 },
 "nbformat": 4,
 "nbformat_minor": 2
}
